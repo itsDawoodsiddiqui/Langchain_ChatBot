{
 "cells": [
  {
   "cell_type": "code",
   "execution_count": 1,
   "id": "d3531644",
   "metadata": {},
   "outputs": [
    {
     "name": "stdout",
     "output_type": "stream",
     "text": [
      "hello\n"
     ]
    }
   ],
   "source": [
    "print(\"hello\")"
   ]
  },
  {
   "cell_type": "code",
   "execution_count": 2,
   "id": "bfbe7804",
   "metadata": {},
   "outputs": [
    {
     "name": "stderr",
     "output_type": "stream",
     "text": [
      "C:\\Users\\wamiq\\AppData\\Local\\Temp\\ipykernel_17868\\3239779897.py:3: LangChainDeprecationWarning: The class `Ollama` was deprecated in LangChain 0.3.1 and will be removed in 1.0.0. An updated version of the class exists in the :class:`~langchain-ollama package and should be used instead. To use it run `pip install -U :class:`~langchain-ollama` and import as `from :class:`~langchain_ollama import OllamaLLM``.\n",
      "  llm = Ollama(model=\"llama2\")\n"
     ]
    }
   ],
   "source": [
    "from langchain_community.llms import Ollama\n",
    "\n",
    "llm = Ollama(model=\"llama2\")"
   ]
  },
  {
   "cell_type": "code",
   "execution_count": 3,
   "id": "92a5acf2",
   "metadata": {},
   "outputs": [
    {
     "name": "stdout",
     "output_type": "stream",
     "text": [
      "Package                   Version\n",
      "------------------------- -----------\n",
      "aiohappyeyeballs          2.6.1\n",
      "aiohttp                   3.12.13\n",
      "aiosignal                 1.3.2\n",
      "altair                    5.5.0\n",
      "annotated-types           0.7.0\n",
      "anyio                     4.9.0\n",
      "asttokens                 3.0.0\n",
      "attrs                     25.3.0\n",
      "blinker                   1.9.0\n",
      "cachetools                6.1.0\n",
      "certifi                   2025.6.15\n",
      "charset-normalizer        3.4.2\n",
      "click                     8.2.1\n",
      "colorama                  0.4.6\n",
      "comm                      0.2.2\n",
      "dataclasses-json          0.6.7\n",
      "debugpy                   1.8.14\n",
      "decorator                 5.2.1\n",
      "distro                    1.9.0\n",
      "executing                 2.2.0\n",
      "fastapi                   0.115.13\n",
      "frozenlist                1.7.0\n",
      "gitdb                     4.0.12\n",
      "GitPython                 3.1.44\n",
      "greenlet                  3.2.3\n",
      "groq                      0.28.0\n",
      "h11                       0.16.0\n",
      "httpcore                  1.0.9\n",
      "httpx                     0.28.1\n",
      "httpx-sse                 0.4.0\n",
      "idna                      3.10\n",
      "ipykernel                 6.29.5\n",
      "ipython                   9.3.0\n",
      "ipython_pygments_lexers   1.1.1\n",
      "jedi                      0.19.2\n",
      "Jinja2                    3.1.6\n",
      "jsonpatch                 1.33\n",
      "jsonpointer               3.0.0\n",
      "jsonschema                4.24.0\n",
      "jsonschema-specifications 2025.4.1\n",
      "jupyter_client            8.6.3\n",
      "jupyter_core              5.8.1\n",
      "langchain                 0.3.25\n",
      "langchain-community       0.3.25\n",
      "langchain-core            0.3.65\n",
      "langchain-groq            0.3.2\n",
      "langchain-text-splitters  0.3.8\n",
      "langserve                 0.3.1\n",
      "langsmith                 0.3.45\n",
      "load-dotenv               0.1.0\n",
      "MarkupSafe                3.0.2\n",
      "marshmallow               3.26.1\n",
      "matplotlib-inline         0.1.7\n",
      "multidict                 6.5.0\n",
      "mypy_extensions           1.1.0\n",
      "narwhals                  1.43.1\n",
      "nest-asyncio              1.6.0\n",
      "numpy                     2.3.0\n",
      "ollama                    0.5.1\n",
      "orjson                    3.10.18\n",
      "packaging                 24.2\n",
      "pandas                    2.3.0\n",
      "parso                     0.8.4\n",
      "pathlib                   1.0.1\n",
      "pillow                    11.2.1\n",
      "pip                       25.1.1\n",
      "platformdirs              4.3.8\n",
      "prompt_toolkit            3.0.51\n",
      "propcache                 0.3.2\n",
      "protobuf                  6.31.1\n",
      "psutil                    7.0.0\n",
      "pure_eval                 0.2.3\n",
      "pyarrow                   20.0.0\n",
      "pydantic                  2.11.7\n",
      "pydantic_core             2.33.2\n",
      "pydantic-settings         2.9.1\n",
      "pydeck                    0.9.1\n",
      "Pygments                  2.19.1\n",
      "python-dateutil           2.9.0.post0\n",
      "python-dotenv             1.1.0\n",
      "pytz                      2025.2\n",
      "pywin32                   310\n",
      "PyYAML                    6.0.2\n",
      "pyzmq                     27.0.0\n",
      "referencing               0.36.2\n",
      "requests                  2.32.4\n",
      "requests-toolbelt         1.0.0\n",
      "rpds-py                   0.25.1\n",
      "six                       1.17.0\n",
      "smmap                     5.0.2\n",
      "sniffio                   1.3.1\n",
      "SQLAlchemy                2.0.41\n",
      "stack-data                0.6.3\n",
      "starlette                 0.46.2\n",
      "streamlit                 1.46.0\n",
      "tenacity                  9.1.2\n",
      "toml                      0.10.2\n",
      "tornado                   6.5.1\n",
      "traitlets                 5.14.3\n",
      "typing_extensions         4.14.0\n",
      "typing-inspect            0.9.0\n",
      "typing-inspection         0.4.1\n",
      "tzdata                    2025.2\n",
      "urllib3                   2.5.0\n",
      "uvicorn                   0.34.3\n",
      "watchdog                  6.0.0\n",
      "wcwidth                   0.2.13\n",
      "yarl                      1.20.1\n",
      "zstandard                 0.23.0\n"
     ]
    }
   ],
   "source": [
    "!pip list"
   ]
  },
  {
   "cell_type": "code",
   "execution_count": 4,
   "id": "5b4904d7",
   "metadata": {},
   "outputs": [
    {
     "name": "stdout",
     "output_type": "stream",
     "text": [
      "Name: ollama\n",
      "Version: 0.5.1\n",
      "Summary: The official Python client for Ollama.\n",
      "Home-page: https://ollama.com\n",
      "Author: \n",
      "Author-email: hello@ollama.com\n",
      "License: \n",
      "Location: F:\\Langvhain chatbot\\virtual3.12.5\\Lib\\site-packages\n",
      "Requires: httpx, pydantic\n",
      "Required-by: \n"
     ]
    }
   ],
   "source": [
    "!pip show ollama"
   ]
  },
  {
   "cell_type": "code",
   "execution_count": null,
   "id": "6e849834",
   "metadata": {},
   "outputs": [],
   "source": []
  }
 ],
 "metadata": {
  "kernelspec": {
   "display_name": "virtual3.12.5",
   "language": "python",
   "name": "python3"
  },
  "language_info": {
   "codemirror_mode": {
    "name": "ipython",
    "version": 3
   },
   "file_extension": ".py",
   "mimetype": "text/x-python",
   "name": "python",
   "nbconvert_exporter": "python",
   "pygments_lexer": "ipython3",
   "version": "3.12.5"
  }
 },
 "nbformat": 4,
 "nbformat_minor": 5
}
